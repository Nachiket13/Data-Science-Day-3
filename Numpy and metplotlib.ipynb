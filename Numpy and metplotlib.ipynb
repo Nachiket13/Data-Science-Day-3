{
 "cells": [
  {
   "cell_type": "code",
   "execution_count": 2,
   "metadata": {},
   "outputs": [
    {
     "name": "stdout",
     "output_type": "stream",
     "text": [
      "[ 2  5  8 11 14 17 20 23 26 29 32 35 38 41 44 47 50]\n"
     ]
    }
   ],
   "source": [
    "#Create a numpy array starting from 2 till 50 with a stepsize of 3.\n",
    "import numpy as np\n",
    "array = np.arange(2,51,3)\n",
    "print(array)"
   ]
  },
  {
   "cell_type": "code",
   "execution_count": 10,
   "metadata": {},
   "outputs": [
    {
     "name": "stdout",
     "output_type": "stream",
     "text": [
      "12\n",
      "5\n",
      "8\n",
      "4\n",
      "6\n",
      "[12, 5, 8, 4, 6]\n",
      "0\n",
      "25\n",
      "14\n",
      "12\n",
      "46\n",
      "[0, 25, 14, 12, 46]\n",
      "[12  5  8  4  6]\n",
      "[ 0 25 14 12 46]\n",
      "[12  5  8  4  6  0 25 14 12 46]\n"
     ]
    },
    {
     "data": {
      "text/plain": [
       "array([ 0,  4,  5,  6,  8, 12, 12, 14, 25, 46])"
      ]
     },
     "execution_count": 10,
     "metadata": {},
     "output_type": "execute_result"
    }
   ],
   "source": [
    "#Accept two lists of 5 elements each from the user.\n",
    "#Convert them to numpy arrays. Concatenate these arrays and print it. Also sort these arrays and print it.\n",
    "import numpy\n",
    "a = []\n",
    "b = []\n",
    "for i in range(5):\n",
    "    s = int(input(\"\"))\n",
    "    a.append(s)\n",
    "print(a)\n",
    "\n",
    "for x in range(5):\n",
    "    r = int(input(\"\"))\n",
    "    b.append(r)\n",
    "print(b)\n",
    "arr1 = numpy.array(a)    #converting 'a' list into numpy array\n",
    "arr2 = numpy.array(b)    #converting 'b' list into numpy array\n",
    "print(arr1)               \n",
    "print(arr2)             #printing array\n",
    "\n",
    "c = numpy.concatenate((arr1,arr2))  #concate two array\n",
    "print(c)\n",
    "\n",
    "numpy.sort(c)       #perform sorting on concated array\n"
   ]
  },
  {
   "cell_type": "code",
   "execution_count": 9,
   "metadata": {},
   "outputs": [
    {
     "name": "stdout",
     "output_type": "stream",
     "text": [
      "[[1 2 3]\n",
      " [4 5 6]\n",
      " [7 8 9]]\n",
      "Dimension of array: 2\n",
      "Size of array: 9\n"
     ]
    }
   ],
   "source": [
    "#Write a code snippet to find the dimensions of a ndarray and its size.\n",
    "import numpy as np\n",
    "arr = np.array( [ [1,2,3] , [4,5,6] , [7,8,9] ] )\n",
    "print(arr)\n",
    "print(\"Dimension of array:\",arr.ndim)\n",
    "print(\"Size of array:\",arr.size)\n"
   ]
  },
  {
   "cell_type": "code",
   "execution_count": 11,
   "metadata": {},
   "outputs": [
    {
     "name": "stdout",
     "output_type": "stream",
     "text": [
      "[[ 1  2]\n",
      " [ 3  4]\n",
      " [10 20]\n",
      " [30 40]]\n",
      "2\n"
     ]
    }
   ],
   "source": [
    "#How to convert a 1D array into a 2D array? Demonstrate with the help of a code snippet\n",
    "import numpy as np\n",
    "arr = np.array([1,2,3,4,10,20,30,40])\n",
    "array_2d = np.reshape(arr,(4,2))\n",
    "print(array_2d)\n",
    "print(array_2d.ndim)  # printing dimension of array."
   ]
  }
 ],
 "metadata": {
  "kernelspec": {
   "display_name": "Python 3",
   "language": "python",
   "name": "python3"
  },
  "language_info": {
   "codemirror_mode": {
    "name": "ipython",
    "version": 3
   },
   "file_extension": ".py",
   "mimetype": "text/x-python",
   "name": "python",
   "nbconvert_exporter": "python",
   "pygments_lexer": "ipython3",
   "version": "3.8.3"
  }
 },
 "nbformat": 4,
 "nbformat_minor": 4
}
